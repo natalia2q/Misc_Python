{
 "cells": [
  {
   "cell_type": "code",
   "execution_count": 2,
   "metadata": {
    "collapsed": false
   },
   "outputs": [
    {
     "name": "stdout",
     "output_type": "stream",
     "text": [
      "Adwords file load\n"
     ]
    }
   ],
   "source": [
    "import sqlite3\n",
    "\n",
    "conn = sqlite3.connect('CPA.db')\n",
    "\n",
    "c = conn.cursor()\n",
    "\n",
    "#c.execute('DROP TABLE CPA_Upload') #when you are done adding formulas this line should be deleted\n",
    "\n",
    "query = \"\"\"CREATE TABLE IF NOT EXISTS CPA_Upload(\n",
    "Ad_group VARCHAR(100),\n",
    "Campaign VARCHAR(100),\n",
    "CPA REAL,\n",
    "Rev_Conv REAL,\n",
    "New_CPA REAL);\"\"\"\n",
    "\n",
    "c.execute(query)\n",
    "\n",
    "csvfile = open('Adwords.csv','r')\n",
    "\n",
    "for line in csvfile:\n",
    "\n",
    "    line = line.strip()\n",
    "    col = line.split(',') #col == column\n",
    "    if col[0].startswith('Ad') or col[0].startswith('Total') or col[0].startswith('State'):\n",
    "        continue   \n",
    "    query1 = 'INSERT INTO CPA_Upload (Ad_group, Campaign, CPA) VALUES(?,?,?)'\n",
    "    if '--' in col[5]:\n",
    "        col[5] = 0\n",
    "    c.execute(query1,(col[1],col[2],col[5]))\n",
    "    \n",
    "csvfile.close()\n",
    "conn.commit()\n",
    "print(\"Adwords file load\")"
   ]
  },
  {
   "cell_type": "code",
   "execution_count": 1,
   "metadata": {
    "collapsed": false,
    "scrolled": true
   },
   "outputs": [
    {
     "name": "stdout",
     "output_type": "stream",
     "text": [
      "Marin file load\n"
     ]
    }
   ],
   "source": [
    "import sqlite3\n",
    "\n",
    "conn = sqlite3.connect('CPA.db')\n",
    "\n",
    "c = conn.cursor()\n",
    "\n",
    "csvfile = open('Marin.csv','r')\n",
    "i = 1\n",
    "DMPercent = 0.70\n",
    "\n",
    "for line in csvfile:\n",
    "    i += 1\n",
    "    if i > 11:\n",
    "        line = line.strip()\n",
    "        col = line.split(',') #col == column  \n",
    "        query1 = 'UPDATE CPA_Upload SET REV_Conv = ?, NEW_CPA = ? WHERE Ad_group = ? AND Campaign = ?'\n",
    "        new_cpa = float(col[4]) * DMPercent\n",
    "        #print(\"UPDATE CPA_Upload SET REV_Conv =\"+ col[4] + \", NEW_CPA = \"+ str(new_cpa) + \" WHERE Ad_group ='\"+ col[0] + \"' AND Campaign = '\"+ col[3] + \"'\")\n",
    "        c.execute(query1, (col[4], new_cpa, col[0], col[3]) )\n",
    "    \n",
    "csvfile.close()\n",
    "conn.commit()\n",
    "print(\"Marin file load\")\n"
   ]
  },
  {
   "cell_type": "code",
   "execution_count": 2,
   "metadata": {
    "collapsed": false
   },
   "outputs": [
    {
     "name": "stdout",
     "output_type": "stream",
     "text": [
      "Archivo Listo\n"
     ]
    }
   ],
   "source": [
    "query2 = 'SELECT Ad_group,Campaign, REV_Conv FROM CPA_Upload ORDER BY NEW_CPA ASC' \n",
    "c.execute(query2)\n",
    "#c.fetchone()# Taking from the table\n",
    "\n",
    "Fd = open('NewBids.csv', 'w')\n",
    "for Group, Campaign, CPA_Bid in c.fetchall():\n",
    "    Fd.write(str(Campaign) + \",\" + str(Group) + \",\" + str(CPA_Bid)+'\\n')\n",
    "Fd.close()\n",
    "print(\"Archivo Listo\")"
   ]
  },
  {
   "cell_type": "code",
   "execution_count": null,
   "metadata": {
    "collapsed": true
   },
   "outputs": [],
   "source": []
  }
 ],
 "metadata": {
  "anaconda-cloud": {},
  "kernelspec": {
   "display_name": "Python [default]",
   "language": "python",
   "name": "python3"
  },
  "language_info": {
   "codemirror_mode": {
    "name": "ipython",
    "version": 3
   },
   "file_extension": ".py",
   "mimetype": "text/x-python",
   "name": "python",
   "nbconvert_exporter": "python",
   "pygments_lexer": "ipython3",
   "version": "3.5.2"
  }
 },
 "nbformat": 4,
 "nbformat_minor": 2
}
